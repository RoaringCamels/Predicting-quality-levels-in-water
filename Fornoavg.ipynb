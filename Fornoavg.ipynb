{
 "cells": [
  {
   "cell_type": "code",
   "execution_count": 111,
   "metadata": {},
   "outputs": [
    {
     "data": {
      "text/html": [
       "<div>\n",
       "<style scoped>\n",
       "    .dataframe tbody tr th:only-of-type {\n",
       "        vertical-align: middle;\n",
       "    }\n",
       "\n",
       "    .dataframe tbody tr th {\n",
       "        vertical-align: top;\n",
       "    }\n",
       "\n",
       "    .dataframe thead th {\n",
       "        text-align: right;\n",
       "    }\n",
       "</style>\n",
       "<table border=\"1\" class=\"dataframe\">\n",
       "  <thead>\n",
       "    <tr style=\"text-align: right;\">\n",
       "      <th></th>\n",
       "      <th>Coordinates and Times</th>\n",
       "      <th>.ALPHA.-ENDOSULFAN</th>\n",
       "      <th>.ALPHA.-HEXACHLOROCYCLOHEXANE</th>\n",
       "      <th>.BETA.-ENDOSULFAN</th>\n",
       "      <th>.BETA.-HEXACHLOROCYCLOHEXANE</th>\n",
       "      <th>.DELTA.-HEXACHLOROCYCLOHEXANE</th>\n",
       "      <th>.LAMBDA.-CYHALOTHRIN</th>\n",
       "      <th>1-(3,4-DICHLOROPHENYL)-3-METHYL UREA</th>\n",
       "      <th>1-CHLOROPROPANE</th>\n",
       "      <th>1,1-DICHLOROETHANE</th>\n",
       "      <th>...</th>\n",
       "      <th>WIND CONDITION (CHOICE LIST)</th>\n",
       "      <th>WIND DIRECTION (DIRECTION FROM, EXPRESSED 0-360 DEG)</th>\n",
       "      <th>WIND DIRECTION FROM (CHOICE LIST)</th>\n",
       "      <th>WIND SPEED (CHOICE LIST)</th>\n",
       "      <th>WIND VELOCITY</th>\n",
       "      <th>XYLENE</th>\n",
       "      <th>YTTERBIUM</th>\n",
       "      <th>YTTRIUM</th>\n",
       "      <th>ZINC</th>\n",
       "      <th>ZOXAMIDE</th>\n",
       "    </tr>\n",
       "  </thead>\n",
       "  <tbody>\n",
       "    <tr>\n",
       "      <th>0</th>\n",
       "      <td>0</td>\n",
       "      <td>NaN</td>\n",
       "      <td>NaN</td>\n",
       "      <td>NaN</td>\n",
       "      <td>NaN</td>\n",
       "      <td>NaN</td>\n",
       "      <td>NaN</td>\n",
       "      <td>NaN</td>\n",
       "      <td>NaN</td>\n",
       "      <td>NaN</td>\n",
       "      <td>...</td>\n",
       "      <td>NaN</td>\n",
       "      <td>NaN</td>\n",
       "      <td>NaN</td>\n",
       "      <td>NaN</td>\n",
       "      <td>NaN</td>\n",
       "      <td>NaN</td>\n",
       "      <td>NaN</td>\n",
       "      <td>NaN</td>\n",
       "      <td>NaN</td>\n",
       "      <td>NaN</td>\n",
       "    </tr>\n",
       "    <tr>\n",
       "      <th>1</th>\n",
       "      <td>0</td>\n",
       "      <td>NaN</td>\n",
       "      <td>NaN</td>\n",
       "      <td>NaN</td>\n",
       "      <td>NaN</td>\n",
       "      <td>NaN</td>\n",
       "      <td>NaN</td>\n",
       "      <td>NaN</td>\n",
       "      <td>NaN</td>\n",
       "      <td>NaN</td>\n",
       "      <td>...</td>\n",
       "      <td>NaN</td>\n",
       "      <td>NaN</td>\n",
       "      <td>NaN</td>\n",
       "      <td>NaN</td>\n",
       "      <td>NaN</td>\n",
       "      <td>NaN</td>\n",
       "      <td>NaN</td>\n",
       "      <td>NaN</td>\n",
       "      <td>NaN</td>\n",
       "      <td>NaN</td>\n",
       "    </tr>\n",
       "    <tr>\n",
       "      <th>2</th>\n",
       "      <td>8/30/22 14:53</td>\n",
       "      <td>NaN</td>\n",
       "      <td>NaN</td>\n",
       "      <td>NaN</td>\n",
       "      <td>NaN</td>\n",
       "      <td>NaN</td>\n",
       "      <td>NaN</td>\n",
       "      <td>NaN</td>\n",
       "      <td>NaN</td>\n",
       "      <td>NaN</td>\n",
       "      <td>...</td>\n",
       "      <td>NaN</td>\n",
       "      <td>NaN</td>\n",
       "      <td>NaN</td>\n",
       "      <td>NaN</td>\n",
       "      <td>NaN</td>\n",
       "      <td>NaN</td>\n",
       "      <td>NaN</td>\n",
       "      <td>NaN</td>\n",
       "      <td>NaN</td>\n",
       "      <td>NaN</td>\n",
       "    </tr>\n",
       "    <tr>\n",
       "      <th>3</th>\n",
       "      <td>(blank)</td>\n",
       "      <td>NaN</td>\n",
       "      <td>NaN</td>\n",
       "      <td>NaN</td>\n",
       "      <td>NaN</td>\n",
       "      <td>NaN</td>\n",
       "      <td>NaN</td>\n",
       "      <td>NaN</td>\n",
       "      <td>NaN</td>\n",
       "      <td>NaN</td>\n",
       "      <td>...</td>\n",
       "      <td>NaN</td>\n",
       "      <td>NaN</td>\n",
       "      <td>NaN</td>\n",
       "      <td>NaN</td>\n",
       "      <td>NaN</td>\n",
       "      <td>NaN</td>\n",
       "      <td>NaN</td>\n",
       "      <td>NaN</td>\n",
       "      <td>NaN</td>\n",
       "      <td>NaN</td>\n",
       "    </tr>\n",
       "    <tr>\n",
       "      <th>4</th>\n",
       "      <td>18.41459765</td>\n",
       "      <td>NaN</td>\n",
       "      <td>NaN</td>\n",
       "      <td>NaN</td>\n",
       "      <td>NaN</td>\n",
       "      <td>NaN</td>\n",
       "      <td>NaN</td>\n",
       "      <td>NaN</td>\n",
       "      <td>NaN</td>\n",
       "      <td>NaN</td>\n",
       "      <td>...</td>\n",
       "      <td>NaN</td>\n",
       "      <td>NaN</td>\n",
       "      <td>NaN</td>\n",
       "      <td>NaN</td>\n",
       "      <td>NaN</td>\n",
       "      <td>NaN</td>\n",
       "      <td>NaN</td>\n",
       "      <td>NaN</td>\n",
       "      <td>NaN</td>\n",
       "      <td>NaN</td>\n",
       "    </tr>\n",
       "  </tbody>\n",
       "</table>\n",
       "<p>5 rows × 714 columns</p>\n",
       "</div>"
      ],
      "text/plain": [
       "  Coordinates and Times  .ALPHA.-ENDOSULFAN  .ALPHA.-HEXACHLOROCYCLOHEXANE  \\\n",
       "0                     0                 NaN                            NaN   \n",
       "1                     0                 NaN                            NaN   \n",
       "2         8/30/22 14:53                 NaN                            NaN   \n",
       "3               (blank)                 NaN                            NaN   \n",
       "4           18.41459765                 NaN                            NaN   \n",
       "\n",
       "   .BETA.-ENDOSULFAN  .BETA.-HEXACHLOROCYCLOHEXANE  \\\n",
       "0                NaN                           NaN   \n",
       "1                NaN                           NaN   \n",
       "2                NaN                           NaN   \n",
       "3                NaN                           NaN   \n",
       "4                NaN                           NaN   \n",
       "\n",
       "   .DELTA.-HEXACHLOROCYCLOHEXANE  .LAMBDA.-CYHALOTHRIN  \\\n",
       "0                            NaN                   NaN   \n",
       "1                            NaN                   NaN   \n",
       "2                            NaN                   NaN   \n",
       "3                            NaN                   NaN   \n",
       "4                            NaN                   NaN   \n",
       "\n",
       "   1-(3,4-DICHLOROPHENYL)-3-METHYL UREA  1-CHLOROPROPANE  1,1-DICHLOROETHANE  \\\n",
       "0                                   NaN              NaN                 NaN   \n",
       "1                                   NaN              NaN                 NaN   \n",
       "2                                   NaN              NaN                 NaN   \n",
       "3                                   NaN              NaN                 NaN   \n",
       "4                                   NaN              NaN                 NaN   \n",
       "\n",
       "   ...  WIND CONDITION (CHOICE LIST)  \\\n",
       "0  ...                           NaN   \n",
       "1  ...                           NaN   \n",
       "2  ...                           NaN   \n",
       "3  ...                           NaN   \n",
       "4  ...                           NaN   \n",
       "\n",
       "   WIND DIRECTION (DIRECTION FROM, EXPRESSED 0-360 DEG)  \\\n",
       "0                                                NaN      \n",
       "1                                                NaN      \n",
       "2                                                NaN      \n",
       "3                                                NaN      \n",
       "4                                                NaN      \n",
       "\n",
       "   WIND DIRECTION FROM (CHOICE LIST)  WIND SPEED (CHOICE LIST)  WIND VELOCITY  \\\n",
       "0                                NaN                       NaN            NaN   \n",
       "1                                NaN                       NaN            NaN   \n",
       "2                                NaN                       NaN            NaN   \n",
       "3                                NaN                       NaN            NaN   \n",
       "4                                NaN                       NaN            NaN   \n",
       "\n",
       "   XYLENE  YTTERBIUM  YTTRIUM  ZINC  ZOXAMIDE  \n",
       "0     NaN        NaN      NaN   NaN       NaN  \n",
       "1     NaN        NaN      NaN   NaN       NaN  \n",
       "2     NaN        NaN      NaN   NaN       NaN  \n",
       "3     NaN        NaN      NaN   NaN       NaN  \n",
       "4     NaN        NaN      NaN   NaN       NaN  \n",
       "\n",
       "[5 rows x 714 columns]"
      ]
     },
     "execution_count": 111,
     "metadata": {},
     "output_type": "execute_result"
    }
   ],
   "source": [
    "import pandas as pd\n",
    "import numpy as np\n",
    "import matplotlib.pyplot as plt\n",
    "import matplotlib.dates as mdates\n",
    "import seaborn as sns\n",
    "import warnings\n",
    "from math import exp\n",
    "from scipy import stats\n",
    "from sklearn.model_selection import train_test_split\n",
    "from sklearn.linear_model import LogisticRegression\n",
    "from sklearn.preprocessing import scale\n",
    "from sklearn import preprocessing\n",
    "from sklearn.metrics import accuracy_score, classification_report, confusion_matrix\n",
    "\n",
    "# Ignore warning messages.\n",
    "warnings.filterwarnings(\"ignore\") \n",
    "\n",
    "# Read data from the csv file and convert it into a dataframe.\n",
    "df = pd.read_csv('/Users/andrewzhou/Documents/2023 Summer Research/Organized-noavg.csv')\n",
    "\n",
    "df.head()"
   ]
  },
  {
   "cell_type": "code",
   "execution_count": null,
   "metadata": {},
   "outputs": [],
   "source": [
    "#look at the tail of the dataframe\n",
    "df.info()"
   ]
  },
  {
   "cell_type": "code",
   "execution_count": 112,
   "metadata": {},
   "outputs": [
    {
     "name": "stdout",
     "output_type": "stream",
     "text": [
      "<class 'pandas.core.frame.DataFrame'>\n",
      "RangeIndex: 69031 entries, 0 to 69030\n",
      "Columns: 712 entries, .ALPHA.-ENDOSULFAN to ZOXAMIDE\n",
      "dtypes: float64(712)\n",
      "memory usage: 375.0 MB\n"
     ]
    }
   ],
   "source": [
    "df.drop(columns='Coordinates and Times',axis=1,inplace=True)\n",
    "df.drop(columns='ORTHOPHOSPHATE',axis=1,inplace=True)\n",
    "\n",
    "\n",
    "df.info()"
   ]
  },
  {
   "cell_type": "code",
   "execution_count": null,
   "metadata": {},
   "outputs": [],
   "source": [
    "#df['NITROGEN, MIXED FORMS (NH3), (NH4), ORGANIC, (NO2) AND (NO3)'] = pd.to_numeric(df['NITROGEN, MIXED FORMS (NH3), (NH4), ORGANIC, (NO2) AND (NO3)'], errors='coerce')\n",
    "#df = df.replace(np.nan, 0, regex=True)\n",
    "#df.info"
   ]
  },
  {
   "cell_type": "code",
   "execution_count": null,
   "metadata": {},
   "outputs": [],
   "source": [
    "#df['CHLOROPHYLL A, UNCORRECTED FOR PHEOPHYTIN'] = pd.to_numeric(df['CHLOROPHYLL A, UNCORRECTED FOR PHEOPHYTIN'], errors='coerce')\n",
    "#df = df.replace(np.nan, 0, regex=True)\n",
    "#df.info"
   ]
  },
  {
   "cell_type": "code",
   "execution_count": 113,
   "metadata": {},
   "outputs": [
    {
     "data": {
      "text/plain": [
       ".ALPHA.-ENDOSULFAN               float64\n",
       ".ALPHA.-HEXACHLOROCYCLOHEXANE    float64\n",
       ".BETA.-ENDOSULFAN                float64\n",
       ".BETA.-HEXACHLOROCYCLOHEXANE     float64\n",
       ".DELTA.-HEXACHLOROCYCLOHEXANE    float64\n",
       "                                  ...   \n",
       "XYLENE                           float64\n",
       "YTTERBIUM                        float64\n",
       "YTTRIUM                          float64\n",
       "ZINC                             float64\n",
       "ZOXAMIDE                         float64\n",
       "Length: 712, dtype: object"
      ]
     },
     "execution_count": 113,
     "metadata": {},
     "output_type": "execute_result"
    }
   ],
   "source": [
    "df=df.astype('float')\n",
    "#df = df.replace(np.nan,10000000000,regex=True)\n",
    "df.dtypes\n"
   ]
  },
  {
   "attachments": {},
   "cell_type": "markdown",
   "metadata": {},
   "source": []
  },
  {
   "cell_type": "code",
   "execution_count": null,
   "metadata": {},
   "outputs": [],
   "source": [
    "#df.plot(kind = 'scatter', y = 'NITROGEN, MIXED FORMS (NH3), (NH4), ORGANIC, (NO2) AND (NO3)', x = 'CHLOROPHYLL A, UNCORRECTED FOR PHEOPHYTIN',ylim=(0,4000),xlim=(0,700))\n",
    "#plt.show()"
   ]
  },
  {
   "cell_type": "code",
   "execution_count": null,
   "metadata": {},
   "outputs": [],
   "source": [
    "#Splitting into train and test sets\n",
    "X=df.loc[:,df.columns != 'NITROGEN, MIXED FORMS (NH3), (NH4), ORGANIC, (NO2) AND (NO3)']     \n",
    "X.info()\n",
    "Y=df['NITROGEN, MIXED FORMS (NH3), (NH4), ORGANIC, (NO2) AND (NO3)']  \n",
    "X_train,X_test,Y_train,Y_test=train_test_split(X,Y,test_size=0.2,random_state = 1)"
   ]
  },
  {
   "cell_type": "code",
   "execution_count": null,
   "metadata": {},
   "outputs": [],
   "source": [
    "scaler = preprocessing.StandardScaler().fit(X_train)\n",
    "X_scaled = scaler.transform(X_train)\n",
    "print(X_scaled.mean(axis=0))\n",
    "print(X_scaled.std(axis=0))"
   ]
  },
  {
   "cell_type": "code",
   "execution_count": null,
   "metadata": {},
   "outputs": [],
   "source": [
    "from sklearn.linear_model import LinearRegression\n",
    "\n",
    "\n",
    "model = LinearRegression()\n",
    "model.fit(X_train, Y_train)\n",
    "train_accuracy = model.score(X_train, Y_train)\n",
    "print(f'The accuracy for the training set is {100 * train_accuracy:.2f}%')\n",
    "test_accuracy = model.score(X_test, Y_test)\n",
    "print(f'The accuracy for the test set is {100 * test_accuracy:.2f}%')\n"
   ]
  },
  {
   "cell_type": "code",
   "execution_count": null,
   "metadata": {},
   "outputs": [],
   "source": [
    "from sklearn.ensemble import RandomForestRegressor\n",
    "from matplotlib import pyplot\n",
    "\n",
    "model = RandomForestRegressor()\n",
    "\n",
    "\n",
    "model.fit(X_train, Y_train)\n",
    "train_accuracy = model.score(X_train, Y_train)\n",
    "print(f'The accuracy for the training set is {100 * train_accuracy:.2f}%')\n",
    "test_accuracy = model.score(X_test, Y_test)\n",
    "print(f'The accuracy for the test set is {100 * test_accuracy:.2f}%')\n",
    "\n"
   ]
  },
  {
   "cell_type": "code",
   "execution_count": null,
   "metadata": {},
   "outputs": [],
   "source": [
    "importance = model.feature_importances_\n",
    "# summarize feature importance\n",
    "for i,v in enumerate(importance):\n",
    " print('Feature: %0d, Score: %.5f' % (i,v))\n",
    "# plot feature importance\n",
    "pyplot.bar([x for x in range(len(importance))], importance)\n",
    "pyplot.show()"
   ]
  },
  {
   "cell_type": "code",
   "execution_count": null,
   "metadata": {},
   "outputs": [],
   "source": [
    "important_features = pd.Series(data=model.feature_importances_,index=X_train.columns)\n",
    "important_features.sort_values(ascending=False,inplace=True)\n",
    "print(important_features)"
   ]
  },
  {
   "cell_type": "markdown",
   "metadata": {},
   "source": [
    "New dataframe with only important features "
   ]
  },
  {
   "cell_type": "code",
   "execution_count": 114,
   "metadata": {},
   "outputs": [
    {
     "name": "stdout",
     "output_type": "stream",
     "text": [
      "<class 'pandas.core.frame.DataFrame'>\n",
      "RangeIndex: 69031 entries, 0 to 69030\n",
      "Data columns (total 4 columns):\n",
      " #   Column                                                        Non-Null Count  Dtype  \n",
      "---  ------                                                        --------------  -----  \n",
      " 0   NITROGEN, MIXED FORMS (NH3), (NH4), ORGANIC, (NO2) AND (NO3)  4052 non-null   float64\n",
      " 1   PHOSPHORUS                                                    9970 non-null   float64\n",
      " 2   CHLOROPHYLL A, UNCORRECTED FOR PHEOPHYTIN                     3998 non-null   float64\n",
      " 3   DEPTH, SECCHI DISK DEPTH                                      12053 non-null  float64\n",
      "dtypes: float64(4)\n",
      "memory usage: 2.1 MB\n"
     ]
    }
   ],
   "source": [
    "sdf = pd.DataFrame()\n",
    "sdf['NITROGEN, MIXED FORMS (NH3), (NH4), ORGANIC, (NO2) AND (NO3)'] = df['NITROGEN, MIXED FORMS (NH3), (NH4), ORGANIC, (NO2) AND (NO3)']\n",
    "sdf['PHOSPHORUS'] = df['PHOSPHORUS']\n",
    "sdf['CHLOROPHYLL A, UNCORRECTED FOR PHEOPHYTIN'] = df['CHLOROPHYLL A, UNCORRECTED FOR PHEOPHYTIN']\n",
    "sdf['DEPTH, SECCHI DISK DEPTH'] = df['DEPTH, SECCHI DISK DEPTH']\n",
    "sdf.info()"
   ]
  },
  {
   "cell_type": "code",
   "execution_count": 116,
   "metadata": {},
   "outputs": [
    {
     "data": {
      "image/png": "[encoded data removed]",
      "text/plain": [
       "<Figure size 640x480 with 1 Axes>"
      ]
     },
     "metadata": {},
     "output_type": "display_data"
    }
   ],
   "source": [
    "sdf = sdf.replace(np.nan,12345,regex=True)\n",
    "sdf.head()\n",
    "sdf.plot(kind = 'scatter', y = 'NITROGEN, MIXED FORMS (NH3), (NH4), ORGANIC, (NO2) AND (NO3)', x = 'CHLOROPHYLL A, UNCORRECTED FOR PHEOPHYTIN',xlim=(0,400))\n",
    "plt.show()"
   ]
  },
  {
   "cell_type": "code",
   "execution_count": 117,
   "metadata": {},
   "outputs": [
    {
     "data": {
      "image/png": "[encoded data removed]",
      "text/plain": [
       "<Figure size 640x480 with 1 Axes>"
      ]
     },
     "metadata": {},
     "output_type": "display_data"
    }
   ],
   "source": [
    "sdf.plot(kind = 'scatter', y = 'NITROGEN, MIXED FORMS (NH3), (NH4), ORGANIC, (NO2) AND (NO3)', x = 'DEPTH, SECCHI DISK DEPTH',ylim=(0,40),xlim=(0,180))\n",
    "plt.show()"
   ]
  },
  {
   "cell_type": "code",
   "execution_count": 142,
   "metadata": {},
   "outputs": [],
   "source": [
    "sdf = sdf[sdf['NITROGEN, MIXED FORMS (NH3), (NH4), ORGANIC, (NO2) AND (NO3)'].between(0, 3500)]\n",
    "sdf = sdf[sdf['PHOSPHORUS'].between(0, 500)]\n",
    "sdf = sdf[sdf['CHLOROPHYLL A, UNCORRECTED FOR PHEOPHYTIN'].between(0, 180)]\n",
    "sdf = sdf[sdf['DEPTH, SECCHI DISK DEPTH'].between(0, 180)]"
   ]
  },
  {
   "cell_type": "code",
   "execution_count": 119,
   "metadata": {},
   "outputs": [
    {
     "data": {
      "text/plain": [
       "<Axes: xlabel='PHOSPHORUS', ylabel='NITROGEN, MIXED FORMS (NH3), (NH4), ORGANIC, (NO2) AND (NO3)'>"
      ]
     },
     "execution_count": 119,
     "metadata": {},
     "output_type": "execute_result"
    },
    {
     "data": {
      "image/png": "[encoded data removed]",
      "text/plain": [
       "<Figure size 640x480 with 1 Axes>"
      ]
     },
     "metadata": {},
     "output_type": "display_data"
    }
   ],
   "source": [
    "sdf.plot(kind = 'scatter', y = 'NITROGEN, MIXED FORMS (NH3), (NH4), ORGANIC, (NO2) AND (NO3)', x = 'PHOSPHORUS')"
   ]
  },
  {
   "cell_type": "code",
   "execution_count": 166,
   "metadata": {},
   "outputs": [
    {
     "name": "stdout",
     "output_type": "stream",
     "text": [
      "<class 'pandas.core.frame.DataFrame'>\n",
      "Int64Index: 2005 entries, 9 to 52176\n",
      "Data columns (total 3 columns):\n",
      " #   Column                                     Non-Null Count  Dtype  \n",
      "---  ------                                     --------------  -----  \n",
      " 0   PHOSPHORUS                                 2005 non-null   float64\n",
      " 1   CHLOROPHYLL A, UNCORRECTED FOR PHEOPHYTIN  2005 non-null   float64\n",
      " 2   DEPTH, SECCHI DISK DEPTH                   2005 non-null   float64\n",
      "dtypes: float64(3)\n",
      "memory usage: 62.7 KB\n"
     ]
    }
   ],
   "source": [
    "#Making train and test sets only from important features\n",
    "X=sdf.loc[:,sdf.columns != 'NITROGEN, MIXED FORMS (NH3), (NH4), ORGANIC, (NO2) AND (NO3)']     \n",
    "X.info()\n",
    "Y=sdf['NITROGEN, MIXED FORMS (NH3), (NH4), ORGANIC, (NO2) AND (NO3)']  \n",
    "X_train,X_test,Y_train,Y_test=train_test_split(X,Y,test_size=0.4,random_state = 1)"
   ]
  },
  {
   "cell_type": "code",
   "execution_count": 172,
   "metadata": {},
   "outputs": [
    {
     "name": "stdout",
     "output_type": "stream",
     "text": [
      "The accuracy for the training set is 93.27%\n",
      "The accuracy for the test set is 70.57%\n"
     ]
    }
   ],
   "source": [
    "#Model Accuracy with only 3 most important features\n",
    "from sklearn.ensemble import RandomForestRegressor\n",
    "from matplotlib import pyplot\n",
    "\n",
    "model = RandomForestRegressor(random_state=True,warm_start=True,criterion='absolute_error',max_depth=100)\n",
    "\n",
    "\n",
    "model.fit(X_train, Y_train)\n",
    "train_accuracy = model.score(X_train, Y_train)\n",
    "print(f'The accuracy for the training set is {100 * train_accuracy:.2f}%')\n",
    "test_accuracy = model.score(X_test, Y_test)\n",
    "print(f'The accuracy for the test set is {100 * test_accuracy:.2f}%')"
   ]
  },
  {
   "cell_type": "code",
   "execution_count": 169,
   "metadata": {},
   "outputs": [
    {
     "name": "stdout",
     "output_type": "stream",
     "text": [
      "The accuracy for the training set is 68.98%\n",
      "The accuracy for the test set is 60.46%\n"
     ]
    }
   ],
   "source": [
    "from sklearn.neighbors import KNeighborsRegressor\n",
    "\n",
    "\n",
    "model = KNeighborsRegressor()\n",
    "\n",
    "\n",
    "model.fit(X_train, Y_train)\n",
    "train_accuracy = model.score(X_train, Y_train)\n",
    "print(f'The accuracy for the training set is {100 * train_accuracy:.2f}%')\n",
    "test_accuracy = model.score(X_test, Y_test)\n",
    "print(f'The accuracy for the test set is {100 * test_accuracy:.2f}%')"
   ]
  },
  {
   "cell_type": "code",
   "execution_count": 154,
   "metadata": {},
   "outputs": [
    {
     "name": "stdout",
     "output_type": "stream",
     "text": [
      "The accuracy for the training set is 98.48%\n",
      "The accuracy for the test set is 54.04%\n"
     ]
    }
   ],
   "source": [
    "\n",
    "\n",
    "from sklearn.tree import DecisionTreeRegressor\n",
    "\n",
    "\n",
    "model = DecisionTreeRegressor()\n",
    "\n",
    "\n",
    "model.fit(X_train, Y_train)\n",
    "train_accuracy = model.score(X_train, Y_train)\n",
    "print(f'The accuracy for the training set is {100 * train_accuracy:.2f}%')\n",
    "test_accuracy = model.score(X_test, Y_test)\n",
    "print(f'The accuracy for the test set is {100 * test_accuracy:.2f}%')"
   ]
  },
  {
   "cell_type": "code",
   "execution_count": 155,
   "metadata": {},
   "outputs": [
    {
     "name": "stdout",
     "output_type": "stream",
     "text": [
      "The accuracy for the training set is 19.23%\n",
      "The accuracy for the test set is 24.33%\n"
     ]
    }
   ],
   "source": [
    "from sklearn import svm\n",
    "\n",
    "\n",
    "model = svm.SVR()\n",
    "model.fit(X_train, Y_train)\n",
    "train_accuracy = model.score(X_train, Y_train)\n",
    "print(f'The accuracy for the training set is {100 * train_accuracy:.2f}%')\n",
    "test_accuracy = model.score(X_test, Y_test)\n",
    "print(f'The accuracy for the test set is {100 * test_accuracy:.2f}%')"
   ]
  },
  {
   "cell_type": "markdown",
   "metadata": {},
   "source": [
    "Scaling Test and Train Sets"
   ]
  },
  {
   "cell_type": "code",
   "execution_count": 134,
   "metadata": {},
   "outputs": [
    {
     "name": "stdout",
     "output_type": "stream",
     "text": [
      "PHOSPHORUS                                  -2.214909e-17\n",
      "CHLOROPHYLL A, UNCORRECTED FOR PHEOPHYTIN    3.322363e-17\n",
      "DEPTH, SECCHI DISK DEPTH                     2.702189e-16\n",
      "dtype: float64\n",
      "PHOSPHORUS                                   0.028946\n",
      "CHLOROPHYLL A, UNCORRECTED FOR PHEOPHYTIN   -0.000363\n",
      "DEPTH, SECCHI DISK DEPTH                    -0.007491\n",
      "dtype: float64\n"
     ]
    }
   ],
   "source": [
    "#Because we separated the input and output previously, if scale them separately\n",
    "#it can cause inaccurate results. The code below addresses the issue\n",
    "scaler = preprocessing.StandardScaler().fit(X_train)\n",
    "X_train_scaled = pd.DataFrame(scaler.transform(X_train), columns = X_train.columns)\n",
    "X_test_scaled = pd.DataFrame(scaler.transform(X_test), columns = X_test.columns)\n",
    "print(X_train_scaled.mean(axis=0))\n",
    "print(X_test_scaled.mean(axis=0))"
   ]
  },
  {
   "cell_type": "code",
   "execution_count": 136,
   "metadata": {},
   "outputs": [
    {
     "name": "stdout",
     "output_type": "stream",
     "text": [
      "The accuracy for the training set is 93.55%\n",
      "The accuracy for the test set is 68.24%\n"
     ]
    }
   ],
   "source": [
    "#Model Accuracy with only 3 most important features\n",
    "from sklearn.ensemble import RandomForestRegressor\n",
    "from matplotlib import pyplot\n",
    "\n",
    "model = RandomForestRegressor(criterion='absolute_error')\n",
    "\n",
    "\n",
    "model.fit(X_train_scaled, Y_train)\n",
    "train_accuracy = model.score(X_train_scaled, Y_train)\n",
    "print(f'The accuracy for the training set is {100 * train_accuracy:.2f}%')\n",
    "test_accuracy = model.score(X_test_scaled, Y_test)\n",
    "print(f'The accuracy for the test set is {100 * test_accuracy:.2f}%')"
   ]
  },
  {
   "cell_type": "markdown",
   "metadata": {},
   "source": [
    "Cross Validation"
   ]
  },
  {
   "cell_type": "code",
   "execution_count": 170,
   "metadata": {},
   "outputs": [
    {
     "name": "stdout",
     "output_type": "stream",
     "text": [
      "Cross Validation Scores:  [0.62994365 0.6593511  0.63844864 0.70673205 0.74931465 0.59460127\n",
      " 0.67316166 0.59423181 0.68000094 0.65054085]\n",
      "Average CV Score:  0.6576326626204928\n",
      "Number of CV Scores used in Average:  10\n"
     ]
    }
   ],
   "source": [
    "from sklearn.model_selection import KFold, ShuffleSplit, cross_val_score\n",
    "\n",
    "clf = RandomForestRegressor()\n",
    "\n",
    "k_folds = KFold(n_splits = 10)\n",
    "cv = ShuffleSplit(n_splits=10,test_size=.2)\n",
    "\n",
    "scores = cross_val_score(clf, X, Y, cv = cv)\n",
    "\n",
    "print(\"Cross Validation Scores: \", scores)\n",
    "print(\"Average CV Score: \", scores.mean())\n",
    "print(\"Number of CV Scores used in Average: \", len(scores))"
   ]
  }
 ],
 "metadata": {
  "kernelspec": {
   "display_name": "Python 3",
   "language": "python",
   "name": "python3"
  },
  "language_info": {
   "codemirror_mode": {
    "name": "ipython",
    "version": 3
   },
   "file_extension": ".py",
   "mimetype": "text/x-python",
   "name": "python",
   "nbconvert_exporter": "python",
   "pygments_lexer": "ipython3",
   "version": "3.10.9"
  },
  "orig_nbformat": 4
 },
 "nbformat": 4,
 "nbformat_minor": 2
}
